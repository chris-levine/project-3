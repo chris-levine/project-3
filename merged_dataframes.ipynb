{
 "cells": [
  {
   "cell_type": "code",
   "execution_count": null,
   "metadata": {},
   "outputs": [],
   "source": [
    "# Import the dependencies.\n",
    "from pathlib import Path\n",
    "import pandas as pd\n",
    "from pprint import pprint\n",
    "import pandera as pa\n"
   ]
  },
  {
   "cell_type": "code",
   "execution_count": null,
   "metadata": {},
   "outputs": [],
   "source": [
    "# save path to the new csv dataset as a variable\n",
    "bit_coin_csv_path=Path(\"./new_CSV_files/new_bitcoin.csv\")\n",
    "# use panadas to read the data\n",
    "bitcoin_df=pd.read_csv(bit_coin_csv_path)\n"
   ]
  },
  {
   "cell_type": "code",
   "execution_count": null,
   "metadata": {},
   "outputs": [],
   "source": [
    "# save path to the new csv dataset as a variable\n",
    "cardano_coin_csv_path=Path(\"./new_CSV_files/new_cardano.csv\")\n",
    "# use panadas to read the data\n",
    "cardano_df=pd.read_csv(cardano_coin_csv_path)"
   ]
  },
  {
   "cell_type": "code",
   "execution_count": null,
   "metadata": {},
   "outputs": [],
   "source": [
    "# save path to the new csv dataset as a variable\n",
    "dogecoin_csv_path=Path(\"./new_CSV_files/new_dogecoin.csv\")\n",
    "# use panadas to read the data\n",
    "dogecoin_df=pd.read_csv(dogecoin_csv_path)"
   ]
  },
  {
   "cell_type": "code",
   "execution_count": null,
   "metadata": {},
   "outputs": [],
   "source": [
    "# save path to the new csv dataset as a variable\n",
    "ethereum_csv_path=Path(\"./new_CSV_files/new_ethereum.csv\")\n",
    "# use panadas to read the data\n",
    "ethereum_df=pd.read_csv(ethereum_csv_path)"
   ]
  },
  {
   "cell_type": "code",
   "execution_count": null,
   "metadata": {},
   "outputs": [],
   "source": [
    "# save path to the new csv dataset as a variable\n",
    "tether_csv_path=Path(\"./new_CSV_files/new_tether.csv\")\n",
    "# use panadas to read the data\n",
    "tether_df=pd.read_csv(tether_csv_path)"
   ]
  },
  {
   "cell_type": "code",
   "execution_count": null,
   "metadata": {},
   "outputs": [],
   "source": [
    "# save path to the new csv dataset as a variable\n",
    "xrp_csv_path=Path(\"./new_CSV_files/new_xrp.csv\")\n",
    "# use panadas to read the data\n",
    "xrp_df=pd.read_csv(xrp_csv_path)"
   ]
  },
  {
   "cell_type": "code",
   "execution_count": null,
   "metadata": {},
   "outputs": [],
   "source": [
    "# Rename columns in each dataframe to avoid conflicts\n",
    "df1 = bitcoin_df.rename(columns=lambda x: f\"{x}_bitcoin_df\" if x not in ['date'] else x)\n",
    "df2 = cardano_df.rename(columns=lambda x: f\"{x}_cardano_df\" if x not in ['date'] else x)\n",
    "df3 = dogecoin_df.rename(columns=lambda x: f\"{x}_dogecoin_df\" if x not in ['date'] else x)\n",
    "df4 = ethereum_df.rename(columns=lambda x: f\"{x}_ethereum_df\" if x not in ['date'] else x)\n",
    "df5 = tether_df.rename(columns=lambda x: f\"{x}_tether_df\" if x not in ['date'] else x)\n",
    "df6 = xrp_df.rename(columns=lambda x: f\"{x}_xrp_df\" if x not in ['date'] else x)"
   ]
  },
  {
   "cell_type": "code",
   "execution_count": null,
   "metadata": {},
   "outputs": [],
   "source": [
    "# Merge dataframes based on the 'date' column\n",
    "merged_df = pd.merge(df1, df2, on='date')\n",
    "merged_df = pd.merge(merged_df, df3, on='date')\n",
    "merged_df = pd.merge(merged_df, df4, on='date')\n",
    "merged_df = pd.merge(merged_df, df5, on='date')\n",
    "merged_df = pd.merge(merged_df, df6, on='date')\n",
    "\n",
    "# Print the merged dataframe\n",
    "merged_df"
   ]
  },
  {
   "cell_type": "code",
   "execution_count": null,
   "metadata": {},
   "outputs": [],
   "source": [
    "bitcoin_df.head()"
   ]
  },
  {
   "cell_type": "code",
   "execution_count": null,
   "metadata": {},
   "outputs": [],
   "source": [
    "# rename columns, some of them have spaces at the end which messes up the merge\n",
    "\n",
    "#del bitcoin_df[\"SNo\"]\n",
    "\n",
    "cardano_new = cardano_df.rename(columns = {\"name  \": \"name\"})\n",
    "cardano_new = cardano_new.rename(columns = {\"symbol  \": \"symbol\"})\n",
    "#del cardano_new[\"SNO\"]\n",
    "\n",
    "dogecoin_new = dogecoin_df.rename(columns = {\"name  \": \"name\"})\n",
    "dogecoin_new = dogecoin_new.rename(columns = {\"symbol  \": \"symbol\"})\n",
    "#del dogecoin_new[\"SNo\"]\n",
    "\n",
    "ethereum_new = ethereum_df.rename(columns = {\"name  \": \"name\"})\n",
    "ethereum_new = ethereum_new.rename(columns = {\"symbol  \": \"symbol\"})\n",
    "#del ethereum_new[\"SNO\"]\n",
    "\n",
    "tether_new = tether_df.rename(columns = {\"name  \": \"name\"})\n",
    "tether_new = tether_new.rename(columns = {\"symbol  \": \"symbol\"})\n",
    "#del tether_new[\"SNO\"]\n",
    "\n",
    "xrp_new = xrp_df.rename(columns = {\"name  \": \"name\"})\n",
    "xrp_new = xrp_new.rename(columns = {\"symbol  \": \"symbol\"})\n",
    "#del xrp_new[\"SNo\"]\n",
    "\n",
    "xrp_new.columns"
   ]
  },
  {
   "cell_type": "code",
   "execution_count": null,
   "metadata": {},
   "outputs": [],
   "source": [
    "cardano_new"
   ]
  },
  {
   "cell_type": "code",
   "execution_count": null,
   "metadata": {},
   "outputs": [],
   "source": [
    "# merging on name and date \n",
    "merged_new = pd.merge(bitcoin_df, cardano_new, how=\"outer\")\n",
    "merged_new = pd.merge(merged_new, dogecoin_new, how=\"outer\")\n",
    "merged_new = pd.merge(merged_new, ethereum_new, how=\"outer\")\n",
    "merged_new = pd.merge(merged_new, tether_new, how=\"outer\")\n",
    "merged_new = pd.merge(merged_new, xrp_new, how=\"outer\")\n",
    "\n",
    "merged_new"
   ]
  },
  {
   "cell_type": "code",
   "execution_count": null,
   "metadata": {},
   "outputs": [],
   "source": [
    "# delete the columns which were used in the original csv as unique identifiers, they're no longer necessary\n",
    "del merged_new[\"SNO\"]\n",
    "del merged_new[\"SNo\"]\n",
    "\n",
    "merged_new"
   ]
  },
  {
   "cell_type": "code",
   "execution_count": null,
   "metadata": {},
   "outputs": [],
   "source": [
    "# create schema for data validation\n",
    "\n",
    "# define lists of names and symbols\n",
    "# we will use these to check that name and symbol columns only have these values\n",
    "coin_names = [\"Bitcoin\", \"Cardano\", \"Dogecoin\", \"Ethereum\", \"Tether\", \"XRP\"]\n",
    "coin_symbols = [\"BTC \", \"ADA\", \"DOGE\", \"ETH\", \"USDT\", \"XRP\"]\n",
    "\n",
    "\n",
    "# schema defines a data type for each column, and implicitly checks for null values when checking the data type\n",
    "# also will check that the rows are unique using combo of date, name and symbol columns\n",
    "val_schema = pa.DataFrameSchema( columns={\n",
    "    \"name\": pa.Column(str, pa.Check.isin(coin_names)),\n",
    "    \"symbol\": pa.Column(str, pa.Check.isin(coin_symbols)),\n",
    "    \"date\": pa.Column(str),\n",
    "    \"daily_high\": pa.Column(float),\n",
    "    \"daily_low\": pa.Column(float),\n",
    "    \"open_price\": pa.Column(float),\n",
    "    \"close_price\": pa.Column(float),\n",
    "    \"marketcap\": pa.Column(float),\n",
    "    \"daily_percent_change\": pa.Column(float),\n",
    "    \"liquidity_ratio\": pa.Column(float),\n",
    "    \"true_range\": pa.Column(float),\n",
    "    \"average_true_range\": pa.Column(float),\n",
    "    \"volatility_ratio\": pa.Column(float),\n",
    "    \"daily_percent_change_min_max\": pa.Column(float)\n",
    "    },\n",
    "    unique=[\"date\", \"name\", \"symbol\"])"
   ]
  },
  {
   "cell_type": "code",
   "execution_count": null,
   "metadata": {},
   "outputs": [],
   "source": [
    "# data validation \n",
    "\n",
    "# putting the check in a try-except block allows us to see more informative errors when we get them\n",
    "# the lazy=True argument makes it so that all the errors are caught at once, rather than one at a time \n",
    "try:\n",
    "    val_schema.validate(merged_new, lazy=True)\n",
    "except pa.errors.SchemaErrors as err:\n",
    "    print(\"Data validation errors:\")\n",
    "    print(err)\n",
    "\n",
    "# no news is good news\n",
    "# aka no output is what we want to see! any output here would be errors which we'd have to go back and resolve in the data"
   ]
  },
  {
   "cell_type": "code",
   "execution_count": null,
   "metadata": {},
   "outputs": [],
   "source": [
    "import matplotlib.pyplot as plt\n",
    "\n",
    "# Load your Bitcoin data into a Pandas DataFrame\n",
    "df = pd.read_csv(\"./new_CSV_files/new_bitcoin.csv\")\n",
    "# Scatter plot with bubble size based on Volume\n",
    "plt.figure(figsize=(12, 8))\n",
    "scatter = plt.scatter(df['marketcap'], df['close_price'], c=df['volume'], cmap='viridis', alpha=0.9, s=df['volume']/1e7)\n",
    "# Adding labels and title\n",
    "plt.title('Bubble Chart: MarketCap vs. Close Price with Bubble Size Representing Volume')\n",
    "plt.xlabel('marketcap (USD)')\n",
    "plt.ylabel('close_price (USD)')\n",
    "# Adding colorbar to represent Volume\n",
    "cbar = plt.colorbar(scatter, label='Volume')\n",
    "# Display the plot\n",
    "plt.show()"
   ]
  },
  {
   "cell_type": "code",
   "execution_count": null,
   "metadata": {},
   "outputs": [],
   "source": [
    "# Load your data into a Pandas DataFrame\n",
    "df = pd.read_csv(\"./new_CSV_files/new_cardano.csv\")\n",
    "# Sorting DataFrame by 'Date' for chronological order\n",
    "df = df.sort_values(by='date')\n",
    "# Bar chart for daily percent change vs. liquidity ratio\n",
    "plt.figure(figsize=(12, 8))\n",
    "plt.bar(df['date'], df['daily_percent_change'], label='daily_percent_change', alpha=0.9, color='blue', align='center')\n",
    "plt.bar(df['date'], df['close_price'], label='close_price', alpha=0.9, color='green', align='edge')\n",
    "# Adding labels and title\n",
    "plt.title('Bar Chart: Daily Percent Change vs. closing price')\n",
    "plt.xlabel('closeprice')\n",
    "plt.ylabel('Value')\n",
    "# Adding legend\n",
    "plt.legend()\n",
    "# Rotating x-axis labels for better readability\n",
    "plt.xticks(rotation=45, ha='right')\n",
    "# Display the plot\n",
    "plt.show()"
   ]
  }
 ],
 "metadata": {
  "kernelspec": {
   "display_name": "base",
   "language": "python",
   "name": "python3"
  },
  "language_info": {
   "codemirror_mode": {
    "name": "ipython",
    "version": 3
   },
   "file_extension": ".py",
   "mimetype": "text/x-python",
   "name": "python",
   "nbconvert_exporter": "python",
   "pygments_lexer": "ipython3",
   "version": "3.11.5"
  },
  "orig_nbformat": 4,
  "vscode": {
   "interpreter": {
    "hash": "6d0afa0d07ff654802ab0105163ba8c48713f761debf8709a9b6283f7aed9ce5"
   }
  }
 },
 "nbformat": 4,
 "nbformat_minor": 2
}
